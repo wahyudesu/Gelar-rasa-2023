{
  "nbformat": 4,
  "nbformat_minor": 0,
  "metadata": {
    "colab": {
      "provenance": [],
      "gpuType": "T4",
      "include_colab_link": true
    },
    "kernelspec": {
      "name": "python3",
      "display_name": "Python 3"
    },
    "language_info": {
      "name": "python"
    },
    "accelerator": "GPU"
  },
  "cells": [
    {
      "cell_type": "markdown",
      "metadata": {
        "id": "view-in-github",
        "colab_type": "text"
      },
      "source": [
        "<a href=\"https://colab.research.google.com/github/wahyudesu/Gelar-rasa-2023/blob/main/hands_on_classification.ipynb\" target=\"_parent\"><img src=\"https://colab.research.google.com/assets/colab-badge.svg\" alt=\"Open In Colab\"/></a>"
      ]
    },
    {
      "cell_type": "code",
      "execution_count": null,
      "metadata": {
        "colab": {
          "base_uri": "https://localhost:8080/"
        },
        "id": "3PtgLeDOJZvD",
        "outputId": "76899c5e-ff58-444a-aafb-5f2c358e102e"
      },
      "outputs": [
        {
          "output_type": "stream",
          "name": "stdout",
          "text": [
            "Archive:  dataset_sms_spam_bhs_indonesia_v1.zip\n",
            "  inflating: dataset_sms_spam_v1.csv  \n",
            "  inflating: penjelasan.txt          \n"
          ]
        }
      ],
      "source": [
        "!unzip dataset_sms_spam_bhs_indonesia_v1.zip"
      ]
    },
    {
      "cell_type": "code",
      "source": [
        "import pandas as pd\n",
        "from sklearn.feature_extraction.text import TfidfVectorizer\n",
        "from sklearn.svm import SVC\n",
        "from sklearn.model_selection import train_test_split\n",
        "from sklearn.metrics import classification_report, accuracy_score\n",
        "from sklearn.pipeline import Pipeline"
      ],
      "metadata": {
        "id": "g7P3fwDoP2Cr"
      },
      "execution_count": null,
      "outputs": []
    },
    {
      "cell_type": "code",
      "source": [
        "# Load the dataset\n",
        "df = pd.read_csv('dataset_sms_spam_v1.csv')"
      ],
      "metadata": {
        "id": "gpe-YFTsP7fr"
      },
      "execution_count": null,
      "outputs": []
    },
    {
      "cell_type": "code",
      "source": [
        "# Select the features and the target\n",
        "X = df['Teks']  # Text column\n",
        "y = df['label']  # Label column"
      ],
      "metadata": {
        "id": "hvbi1n9RQBon"
      },
      "execution_count": null,
      "outputs": []
    },
    {
      "cell_type": "code",
      "source": [
        "X[:5]"
      ],
      "metadata": {
        "colab": {
          "base_uri": "https://localhost:8080/"
        },
        "id": "-5MJQCNlRqnh",
        "outputId": "5a3c91ef-b773-4eff-d290-a63ea0684e2f"
      },
      "execution_count": null,
      "outputs": [
        {
          "output_type": "execute_result",
          "data": {
            "text/plain": [
              "0    [PROMO] Beli paket Flash mulai 1GB di MY TELKO...\n",
              "1    2.5 GB/30 hari hanya Rp 35 Ribu Spesial buat A...\n",
              "2    2016-07-08 11:47:11.Plg Yth, sisa kuota Flash ...\n",
              "3    2016-08-07 11:29:47.Plg Yth, sisa kuota Flash ...\n",
              "4    4.5GB/30 hari hanya Rp 55 Ribu Spesial buat an...\n",
              "Name: Teks, dtype: object"
            ]
          },
          "metadata": {},
          "execution_count": 19
        }
      ]
    },
    {
      "cell_type": "code",
      "source": [
        "import nltk\n",
        "from nltk.corpus import stopwords\n",
        "\n",
        "nltk.download('stopwords')\n",
        "\n",
        "stop_words = set(stopwords.words('indonesian'))"
      ],
      "metadata": {
        "colab": {
          "base_uri": "https://localhost:8080/"
        },
        "id": "gQfzgdMwdOkM",
        "outputId": "ee1db103-940b-434c-eacf-17df489a608b"
      },
      "execution_count": null,
      "outputs": [
        {
          "output_type": "stream",
          "name": "stderr",
          "text": [
            "[nltk_data] Downloading package stopwords to /root/nltk_data...\n",
            "[nltk_data]   Package stopwords is already up-to-date!\n"
          ]
        },
        {
          "output_type": "execute_result",
          "data": {
            "text/plain": [
              "True"
            ]
          },
          "metadata": {},
          "execution_count": 30
        }
      ]
    },
    {
      "cell_type": "code",
      "source": [
        "# Create a pipeline to transform data and train the classifier\n",
        "pipeline = Pipeline([\n",
        "    ('tfidf', TfidfVectorizer(stop_words=stopwords.words('indonesian'))),  # Convert the text data into TF-IDF features\n",
        "    ('svm', SVC(kernel='linear'))  # Train an SVM classifier with a linear kernel\n",
        "])"
      ],
      "metadata": {
        "id": "EXz3pfOqQJWO"
      },
      "execution_count": null,
      "outputs": []
    },
    {
      "cell_type": "code",
      "source": [
        "# Split the data into training and testing sets\n",
        "X_train, X_test, y_train, y_test = train_test_split(X, y, test_size=0.2, random_state=42)\n",
        "\n",
        "# Train the classifier\n",
        "pipeline.fit(X_train, y_train)\n",
        "\n",
        "# Predict the labels on the test set\n",
        "y_pred = pipeline.predict(X_test)\n",
        "\n",
        "# Evaluate the classifier\n",
        "print(f\"Accuracy: {accuracy_score(y_test, y_pred)}\")\n",
        "print(classification_report(y_test, y_pred))"
      ],
      "metadata": {
        "colab": {
          "base_uri": "https://localhost:8080/"
        },
        "id": "oouJYYlkQLcJ",
        "outputId": "77f13db6-ce19-49cb-89d0-c8dd85ed1792"
      },
      "execution_count": null,
      "outputs": [
        {
          "output_type": "stream",
          "name": "stdout",
          "text": [
            "Accuracy: 0.9344978165938864\n",
            "              precision    recall  f1-score   support\n",
            "\n",
            "           0       0.96      0.96      0.96        99\n",
            "           1       0.99      0.93      0.96        82\n",
            "           2       0.81      0.90      0.85        48\n",
            "\n",
            "    accuracy                           0.93       229\n",
            "   macro avg       0.92      0.93      0.92       229\n",
            "weighted avg       0.94      0.93      0.94       229\n",
            "\n"
          ]
        }
      ]
    },
    {
      "cell_type": "code",
      "source": [
        "pipeline.predict(['4.5GB/30 hari hanya Rp 55 Ribu Spesial buat anda yang terpilih. Aktifkan sekarang juga di *550*907# Buruan..! SKB'])"
      ],
      "metadata": {
        "colab": {
          "base_uri": "https://localhost:8080/"
        },
        "id": "A8pHikypbX-E",
        "outputId": "3a9f285f-9ec1-4487-9cef-ba99f7f69e78"
      },
      "execution_count": null,
      "outputs": [
        {
          "output_type": "execute_result",
          "data": {
            "text/plain": [
              "array([2])"
            ]
          },
          "metadata": {},
          "execution_count": 38
        }
      ]
    },
    {
      "cell_type": "code",
      "source": [
        "spam = 'SELAMAT! Nomor Anda telah terpilih untuk memenangkan hadiah GRAND PRIZE sebesar Rp100 Juta dari Lucky Draw Kami! Untuk klaim, silakan kunjungi link berikut: [link palsu] segera! Ini kesempatan terbatas!'"
      ],
      "metadata": {
        "id": "D4NwJZeQcCww"
      },
      "execution_count": null,
      "outputs": []
    },
    {
      "cell_type": "code",
      "source": [
        "pipeline.predict([spam])"
      ],
      "metadata": {
        "colab": {
          "base_uri": "https://localhost:8080/"
        },
        "id": "dsMSpVF9cRLg",
        "outputId": "d3203164-cbf6-49af-b166-0a3a5dc074b5"
      },
      "execution_count": null,
      "outputs": [
        {
          "output_type": "execute_result",
          "data": {
            "text/plain": [
              "array([0])"
            ]
          },
          "metadata": {},
          "execution_count": 35
        }
      ]
    },
    {
      "cell_type": "code",
      "source": [
        "spam_1 = 'Mmber bru ekstra didepan 300% sampai 2jta (tox7) hny dg 25K Klaim id dpt bnus harian smpai 5%'\n",
        "pipeline.predict([spam_1])"
      ],
      "metadata": {
        "colab": {
          "base_uri": "https://localhost:8080/"
        },
        "id": "0gHaEdLTckGE",
        "outputId": "346160d5-ace8-4c97-e796-bf3b9b0f04d8"
      },
      "execution_count": null,
      "outputs": [
        {
          "output_type": "execute_result",
          "data": {
            "text/plain": [
              "array([0])"
            ]
          },
          "metadata": {},
          "execution_count": 40
        }
      ]
    },
    {
      "cell_type": "code",
      "source": [],
      "metadata": {
        "id": "YdZsGTbgePzD"
      },
      "execution_count": null,
      "outputs": []
    }
  ]
}