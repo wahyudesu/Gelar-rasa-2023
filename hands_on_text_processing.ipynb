{
  "nbformat": 4,
  "nbformat_minor": 0,
  "metadata": {
    "colab": {
      "provenance": [],
      "include_colab_link": true
    },
    "kernelspec": {
      "name": "python3",
      "display_name": "Python 3"
    },
    "language_info": {
      "name": "python"
    }
  },
  "cells": [
    {
      "cell_type": "markdown",
      "metadata": {
        "id": "view-in-github",
        "colab_type": "text"
      },
      "source": [
        "<a href=\"https://colab.research.google.com/github/wahyudesu/Gelar-rasa-2023/blob/main/hands_on_text_processing.ipynb\" target=\"_parent\"><img src=\"https://colab.research.google.com/assets/colab-badge.svg\" alt=\"Open In Colab\"/></a>"
      ]
    },
    {
      "cell_type": "markdown",
      "source": [
        "## Hands-on: Text Processing"
      ],
      "metadata": {
        "id": "cj-IBlvsCgtL"
      }
    },
    {
      "cell_type": "code",
      "source": [
        "!pip install PySastrawi"
      ],
      "metadata": {
        "colab": {
          "base_uri": "https://localhost:8080/"
        },
        "id": "A0JdL7XfHZ3B",
        "outputId": "db8cc151-4e1a-432d-b290-2d3f6573b25e"
      },
      "execution_count": null,
      "outputs": [
        {
          "output_type": "stream",
          "name": "stdout",
          "text": [
            "Collecting PySastrawi\n",
            "  Downloading PySastrawi-1.2.0-py2.py3-none-any.whl (210 kB)\n",
            "\u001b[?25l     \u001b[90m━━━━━━━━━━━━━━━━━━━━━━━━━━━━━━━━━━━━━━━━\u001b[0m \u001b[32m0.0/210.6 kB\u001b[0m \u001b[31m?\u001b[0m eta \u001b[36m-:--:--\u001b[0m\r\u001b[2K     \u001b[91m━━━━━━━━━━━━━━━━━━━━━\u001b[0m\u001b[90m╺\u001b[0m\u001b[90m━━━━━━━━━━━━━━━━━━\u001b[0m \u001b[32m112.6/210.6 kB\u001b[0m \u001b[31m3.3 MB/s\u001b[0m eta \u001b[36m0:00:01\u001b[0m\r\u001b[2K     \u001b[90m━━━━━━━━━━━━━━━━━━━━━━━━━━━━━━━━━━━━━━━━\u001b[0m \u001b[32m210.6/210.6 kB\u001b[0m \u001b[31m3.9 MB/s\u001b[0m eta \u001b[36m0:00:00\u001b[0m\n",
            "\u001b[?25hInstalling collected packages: PySastrawi\n",
            "Successfully installed PySastrawi-1.2.0\n"
          ]
        }
      ]
    },
    {
      "cell_type": "code",
      "execution_count": null,
      "metadata": {
        "id": "-PCpsnkr8qhf"
      },
      "outputs": [],
      "source": [
        "large_text = '''\n",
        "1. Jakarta merupakan pusat pemerintahan di Indonesia.\n",
        "2. Rendang adalah masakan khas yang berasal dari Padang.\n",
        "3. Pendidikan adalah kunci utama untuk masa depan yang cerah.\n",
        "4. Wayang kulit adalah pertunjukan tradisional yang sangat populer di Jawa.\n",
        "5. Bali dikenal sebagai pulau dewata.\n",
        "6. Komodo adalah hewan endemik yang hanya ada di Indonesia.\n",
        "7. Nasi goreng telah menjadi makanan yang dikenal di seluruh dunia.\n",
        "8. Borobudur adalah candi Buddha terbesar di dunia.\n",
        "9. Batik menjadi warisan budaya yang diakui UNESCO.\n",
        "10. Indonesia memiliki beragam suku dan budaya.\n",
        "11. Kopi Luwak dianggap sebagai kopi termahal di dunia.\n",
        "12. Indonesia terkenal dengan hutan hujan tropisnya.\n",
        "13. Durian merupakan buah yang kontroversial karena baunya.\n",
        "14. Badminton adalah olahraga yang sangat populer di Indonesia.\n",
        "15. Orangutan adalah spesies kera besar yang dilindungi di Indonesia.\n",
        "16. Gunung Krakatau meletus pada tahun 1883 dengan sangat dahsyat.\n",
        "17. Indonesia adalah negara kepulauan terbesar di dunia.\n",
        "18. Teh Indonesia memiliki kualitas ekspor yang tinggi.\n",
        "19. Candi Prambanan menunjukkan keindahan arsitektur Hindu.\n",
        "20. Anak Krakatau adalah anak gunung berapi dari Krakatau.\n",
        "21. Bajaj adalah salah satu moda transportasi tradisional di Jakarta.\n",
        "22. Tari Saman berasal dari Aceh.\n",
        "23. Indonesia memiliki lebih dari 17.000 pulau.\n",
        "24. Angklung adalah alat musik tradisional yang terbuat dari bambu.\n",
        "25. Kompetisi panjat tebing semakin populer di kalangan pemuda.\n",
        "26. Tomat dan terong adalah bagian dari keluarga solanaceae.\n",
        "27. Teknologi blockchain memiliki potensi yang besar untuk disrupsi.\n",
        "28. Risiko cyber security menjadi perhatian utama dalam bisnis digital.\n",
        "29. Banyak startup di Indonesia yang berkembang dengan cepat.\n",
        "30. Pemanasan global adalah isu lingkungan yang sangat serius.\n",
        "31. Banyak spesies yang terancam punah akibat perubahan iklim.\n",
        "32. Keanekaragaman hayati di Indonesia adalah salah satu yang terkaya di dunia.\n",
        "33. Ayam penyet adalah salah satu makanan pedas yang populer.\n",
        "34. Indonesia memiliki banyak gunung berapi aktif.\n",
        "35. Konservasi satwa liar adalah prioritas di banyak daerah di Indonesia.\n",
        "36. Martabak adalah jajanan yang paling banyak dicari saat malam hari.\n",
        "37. Bahasa Indonesia adalah hasil dari evolusi bahasa Melayu.\n",
        "38. Ramayana adalah cerita epik yang juga populer di Indonesia.\n",
        "39. Teknik tenun ikat adalah seni yang membutuhkan keahlian tinggi.\n",
        "40. Indonesia memiliki kekayaan sumber daya mineral yang luar biasa.\n",
        "41. Lukisan cakar ayam oleh Affandi adalah karya seni yang terkenal.\n",
        "42. Kerajaan Majapahit pernah menjadi salah satu kerajaan terbesar di Indonesia.\n",
        "43. Lontong sayur merupakan makanan khas yang sering disajikan saat lebaran.\n",
        "44. Indonesia pernah menjadi tuan rumah Asian Games pada tahun 2018.\n",
        "45. Pantai Raja Ampat adalah surga bagi para penyelam.\n",
        "46. Musik keroncong memiliki akar sejarah yang panjang di Indonesia.\n",
        "47. Soto ayam adalah makanan berkuah yang menghangatkan.\n",
        "48. Indonesia mengadakan pemilihan umum setiap lima tahun sekali.\n",
        "49. Permainan tradisional seperti layang-layang masih populer di kalangan anak-anak.\n",
        "50. Ondel-ondel adalah boneka besar yang menjadi ikon kota Jakarta.\n",
        "'''"
      ]
    },
    {
      "cell_type": "markdown",
      "source": [
        "### Tokenization"
      ],
      "metadata": {
        "id": "L_CJqS5fCmeG"
      }
    },
    {
      "cell_type": "code",
      "source": [
        "import re"
      ],
      "metadata": {
        "id": "RUO-9nSTGTIy"
      },
      "execution_count": null,
      "outputs": []
    },
    {
      "cell_type": "code",
      "source": [
        "corpus = large_text.split('\\n')\n",
        "corpus = list(filter(lambda x: x != '', corpus))\n",
        "corpus"
      ],
      "metadata": {
        "colab": {
          "base_uri": "https://localhost:8080/"
        },
        "id": "nXWDIoAyEI6x",
        "outputId": "e67999ee-ea33-4ae6-b955-53506e592883"
      },
      "execution_count": null,
      "outputs": [
        {
          "output_type": "execute_result",
          "data": {
            "text/plain": [
              "['1. Jakarta merupakan pusat pemerintahan di Indonesia.',\n",
              " '2. Rendang adalah masakan khas yang berasal dari Padang.',\n",
              " '3. Pendidikan adalah kunci utama untuk masa depan yang cerah.',\n",
              " '4. Wayang kulit adalah pertunjukan tradisional yang sangat populer di Jawa.',\n",
              " '5. Bali dikenal sebagai pulau dewata.',\n",
              " '6. Komodo adalah hewan endemik yang hanya ada di Indonesia.',\n",
              " '7. Nasi goreng telah menjadi makanan yang dikenal di seluruh dunia.',\n",
              " '8. Borobudur adalah candi Buddha terbesar di dunia.',\n",
              " '9. Batik menjadi warisan budaya yang diakui UNESCO.',\n",
              " '10. Indonesia memiliki beragam suku dan budaya.',\n",
              " '11. Kopi Luwak dianggap sebagai kopi termahal di dunia.',\n",
              " '12. Indonesia terkenal dengan hutan hujan tropisnya.',\n",
              " '13. Durian merupakan buah yang kontroversial karena baunya.',\n",
              " '14. Badminton adalah olahraga yang sangat populer di Indonesia.',\n",
              " '15. Orangutan adalah spesies kera besar yang dilindungi di Indonesia.',\n",
              " '16. Gunung Krakatau meletus pada tahun 1883 dengan sangat dahsyat.',\n",
              " '17. Indonesia adalah negara kepulauan terbesar di dunia.',\n",
              " '18. Teh Indonesia memiliki kualitas ekspor yang tinggi.',\n",
              " '19. Candi Prambanan menunjukkan keindahan arsitektur Hindu.',\n",
              " '20. Anak Krakatau adalah anak gunung berapi dari Krakatau.',\n",
              " '21. Bajaj adalah salah satu moda transportasi tradisional di Jakarta.',\n",
              " '22. Tari Saman berasal dari Aceh.',\n",
              " '23. Indonesia memiliki lebih dari 17.000 pulau.',\n",
              " '24. Angklung adalah alat musik tradisional yang terbuat dari bambu.',\n",
              " '25. Kompetisi panjat tebing semakin populer di kalangan pemuda.',\n",
              " '26. Tomat dan terong adalah bagian dari keluarga solanaceae.',\n",
              " '27. Teknologi blockchain memiliki potensi yang besar untuk disrupsi.',\n",
              " '28. Risiko cyber security menjadi perhatian utama dalam bisnis digital.',\n",
              " '29. Banyak startup di Indonesia yang berkembang dengan cepat.',\n",
              " '30. Pemanasan global adalah isu lingkungan yang sangat serius.',\n",
              " '31. Banyak spesies yang terancam punah akibat perubahan iklim.',\n",
              " '32. Keanekaragaman hayati di Indonesia adalah salah satu yang terkaya di dunia.',\n",
              " '33. Ayam penyet adalah salah satu makanan pedas yang populer.',\n",
              " '34. Indonesia memiliki banyak gunung berapi aktif.',\n",
              " '35. Konservasi satwa liar adalah prioritas di banyak daerah di Indonesia.',\n",
              " '36. Martabak adalah jajanan yang paling banyak dicari saat malam hari.',\n",
              " '37. Bahasa Indonesia adalah hasil dari evolusi bahasa Melayu.',\n",
              " '38. Ramayana adalah cerita epik yang juga populer di Indonesia.',\n",
              " '39. Teknik tenun ikat adalah seni yang membutuhkan keahlian tinggi.',\n",
              " '40. Indonesia memiliki kekayaan sumber daya mineral yang luar biasa.',\n",
              " '41. Lukisan cakar ayam oleh Affandi adalah karya seni yang terkenal.',\n",
              " '42. Kerajaan Majapahit pernah menjadi salah satu kerajaan terbesar di Indonesia.',\n",
              " '43. Lontong sayur merupakan makanan khas yang sering disajikan saat lebaran.',\n",
              " '44. Indonesia pernah menjadi tuan rumah Asian Games pada tahun 2018.',\n",
              " '45. Pantai Raja Ampat adalah surga bagi para penyelam.',\n",
              " '46. Musik keroncong memiliki akar sejarah yang panjang di Indonesia.',\n",
              " '47. Soto ayam adalah makanan berkuah yang menghangatkan.',\n",
              " '48. Indonesia mengadakan pemilihan umum setiap lima tahun sekali.',\n",
              " '49. Permainan tradisional seperti layang-layang masih populer di kalangan anak-anak.',\n",
              " '50. Ondel-ondel adalah boneka besar yang menjadi ikon kota Jakarta.']"
            ]
          },
          "metadata": {},
          "execution_count": 15
        }
      ]
    },
    {
      "cell_type": "code",
      "source": [
        "corpus_no_numbers = [re.sub(r'\\d+', '', sentence) for sentence in corpus]\n",
        "corpus_no_numbers = [sentence.replace('. ', '') for sentence in corpus_no_numbers]\n",
        "corpus_no_numbers"
      ],
      "metadata": {
        "colab": {
          "base_uri": "https://localhost:8080/"
        },
        "id": "tBzDGAllGMxU",
        "outputId": "1bbb33d9-c4b2-42f0-a424-250511a25c92"
      },
      "execution_count": null,
      "outputs": [
        {
          "output_type": "execute_result",
          "data": {
            "text/plain": [
              "['Jakarta merupakan pusat pemerintahan di Indonesia.',\n",
              " 'Rendang adalah masakan khas yang berasal dari Padang.',\n",
              " 'Pendidikan adalah kunci utama untuk masa depan yang cerah.',\n",
              " 'Wayang kulit adalah pertunjukan tradisional yang sangat populer di Jawa.',\n",
              " 'Bali dikenal sebagai pulau dewata.',\n",
              " 'Komodo adalah hewan endemik yang hanya ada di Indonesia.',\n",
              " 'Nasi goreng telah menjadi makanan yang dikenal di seluruh dunia.',\n",
              " 'Borobudur adalah candi Buddha terbesar di dunia.',\n",
              " 'Batik menjadi warisan budaya yang diakui UNESCO.',\n",
              " 'Indonesia memiliki beragam suku dan budaya.',\n",
              " 'Kopi Luwak dianggap sebagai kopi termahal di dunia.',\n",
              " 'Indonesia terkenal dengan hutan hujan tropisnya.',\n",
              " 'Durian merupakan buah yang kontroversial karena baunya.',\n",
              " 'Badminton adalah olahraga yang sangat populer di Indonesia.',\n",
              " 'Orangutan adalah spesies kera besar yang dilindungi di Indonesia.',\n",
              " 'Gunung Krakatau meletus pada tahun  dengan sangat dahsyat.',\n",
              " 'Indonesia adalah negara kepulauan terbesar di dunia.',\n",
              " 'Teh Indonesia memiliki kualitas ekspor yang tinggi.',\n",
              " 'Candi Prambanan menunjukkan keindahan arsitektur Hindu.',\n",
              " 'Anak Krakatau adalah anak gunung berapi dari Krakatau.',\n",
              " 'Bajaj adalah salah satu moda transportasi tradisional di Jakarta.',\n",
              " 'Tari Saman berasal dari Aceh.',\n",
              " 'Indonesia memiliki lebih dari pulau.',\n",
              " 'Angklung adalah alat musik tradisional yang terbuat dari bambu.',\n",
              " 'Kompetisi panjat tebing semakin populer di kalangan pemuda.',\n",
              " 'Tomat dan terong adalah bagian dari keluarga solanaceae.',\n",
              " 'Teknologi blockchain memiliki potensi yang besar untuk disrupsi.',\n",
              " 'Risiko cyber security menjadi perhatian utama dalam bisnis digital.',\n",
              " 'Banyak startup di Indonesia yang berkembang dengan cepat.',\n",
              " 'Pemanasan global adalah isu lingkungan yang sangat serius.',\n",
              " 'Banyak spesies yang terancam punah akibat perubahan iklim.',\n",
              " 'Keanekaragaman hayati di Indonesia adalah salah satu yang terkaya di dunia.',\n",
              " 'Ayam penyet adalah salah satu makanan pedas yang populer.',\n",
              " 'Indonesia memiliki banyak gunung berapi aktif.',\n",
              " 'Konservasi satwa liar adalah prioritas di banyak daerah di Indonesia.',\n",
              " 'Martabak adalah jajanan yang paling banyak dicari saat malam hari.',\n",
              " 'Bahasa Indonesia adalah hasil dari evolusi bahasa Melayu.',\n",
              " 'Ramayana adalah cerita epik yang juga populer di Indonesia.',\n",
              " 'Teknik tenun ikat adalah seni yang membutuhkan keahlian tinggi.',\n",
              " 'Indonesia memiliki kekayaan sumber daya mineral yang luar biasa.',\n",
              " 'Lukisan cakar ayam oleh Affandi adalah karya seni yang terkenal.',\n",
              " 'Kerajaan Majapahit pernah menjadi salah satu kerajaan terbesar di Indonesia.',\n",
              " 'Lontong sayur merupakan makanan khas yang sering disajikan saat lebaran.',\n",
              " 'Indonesia pernah menjadi tuan rumah Asian Games pada tahun .',\n",
              " 'Pantai Raja Ampat adalah surga bagi para penyelam.',\n",
              " 'Musik keroncong memiliki akar sejarah yang panjang di Indonesia.',\n",
              " 'Soto ayam adalah makanan berkuah yang menghangatkan.',\n",
              " 'Indonesia mengadakan pemilihan umum setiap lima tahun sekali.',\n",
              " 'Permainan tradisional seperti layang-layang masih populer di kalangan anak-anak.',\n",
              " 'Ondel-ondel adalah boneka besar yang menjadi ikon kota Jakarta.']"
            ]
          },
          "metadata": {},
          "execution_count": 19
        }
      ]
    },
    {
      "cell_type": "code",
      "source": [
        "import nltk\n",
        "from nltk.tokenize import word_tokenize, sent_tokenize\n",
        "nltk.download('punkt')"
      ],
      "metadata": {
        "colab": {
          "base_uri": "https://localhost:8080/"
        },
        "id": "9yZWl5yyG0Xn",
        "outputId": "2458b67f-4554-40c9-fd61-aa2096e961a1"
      },
      "execution_count": null,
      "outputs": [
        {
          "output_type": "stream",
          "name": "stderr",
          "text": [
            "[nltk_data] Downloading package punkt to /root/nltk_data...\n",
            "[nltk_data]   Unzipping tokenizers/punkt.zip.\n"
          ]
        },
        {
          "output_type": "execute_result",
          "data": {
            "text/plain": [
              "True"
            ]
          },
          "metadata": {},
          "execution_count": 21
        }
      ]
    },
    {
      "cell_type": "code",
      "source": [
        "joined_corpus = \" \".join(corpus_no_numbers)\n",
        "word_tokenized = word_tokenize(joined_corpus)\n",
        "sent_tokenized = sent_tokenize(joined_corpus)\n",
        "print(\"Sentence Tokenization:\", sent_tokenized)\n",
        "print(\"Word Tokenization:\", word_tokenized)"
      ],
      "metadata": {
        "colab": {
          "base_uri": "https://localhost:8080/"
        },
        "id": "RnFLWKnVH2tR",
        "outputId": "3a853b47-c4ad-4306-a892-77bc83c5f01d"
      },
      "execution_count": null,
      "outputs": [
        {
          "output_type": "stream",
          "name": "stdout",
          "text": [
            "Sentence Tokenization: ['Jakarta merupakan pusat pemerintahan di Indonesia.', 'Rendang adalah masakan khas yang berasal dari Padang.', 'Pendidikan adalah kunci utama untuk masa depan yang cerah.', 'Wayang kulit adalah pertunjukan tradisional yang sangat populer di Jawa.', 'Bali dikenal sebagai pulau dewata.', 'Komodo adalah hewan endemik yang hanya ada di Indonesia.', 'Nasi goreng telah menjadi makanan yang dikenal di seluruh dunia.', 'Borobudur adalah candi Buddha terbesar di dunia.', 'Batik menjadi warisan budaya yang diakui UNESCO.', 'Indonesia memiliki beragam suku dan budaya.', 'Kopi Luwak dianggap sebagai kopi termahal di dunia.', 'Indonesia terkenal dengan hutan hujan tropisnya.', 'Durian merupakan buah yang kontroversial karena baunya.', 'Badminton adalah olahraga yang sangat populer di Indonesia.', 'Orangutan adalah spesies kera besar yang dilindungi di Indonesia.', 'Gunung Krakatau meletus pada tahun  dengan sangat dahsyat.', 'Indonesia adalah negara kepulauan terbesar di dunia.', 'Teh Indonesia memiliki kualitas ekspor yang tinggi.', 'Candi Prambanan menunjukkan keindahan arsitektur Hindu.', 'Anak Krakatau adalah anak gunung berapi dari Krakatau.', 'Bajaj adalah salah satu moda transportasi tradisional di Jakarta.', 'Tari Saman berasal dari Aceh.', 'Indonesia memiliki lebih dari pulau.', 'Angklung adalah alat musik tradisional yang terbuat dari bambu.', 'Kompetisi panjat tebing semakin populer di kalangan pemuda.', 'Tomat dan terong adalah bagian dari keluarga solanaceae.', 'Teknologi blockchain memiliki potensi yang besar untuk disrupsi.', 'Risiko cyber security menjadi perhatian utama dalam bisnis digital.', 'Banyak startup di Indonesia yang berkembang dengan cepat.', 'Pemanasan global adalah isu lingkungan yang sangat serius.', 'Banyak spesies yang terancam punah akibat perubahan iklim.', 'Keanekaragaman hayati di Indonesia adalah salah satu yang terkaya di dunia.', 'Ayam penyet adalah salah satu makanan pedas yang populer.', 'Indonesia memiliki banyak gunung berapi aktif.', 'Konservasi satwa liar adalah prioritas di banyak daerah di Indonesia.', 'Martabak adalah jajanan yang paling banyak dicari saat malam hari.', 'Bahasa Indonesia adalah hasil dari evolusi bahasa Melayu.', 'Ramayana adalah cerita epik yang juga populer di Indonesia.', 'Teknik tenun ikat adalah seni yang membutuhkan keahlian tinggi.', 'Indonesia memiliki kekayaan sumber daya mineral yang luar biasa.', 'Lukisan cakar ayam oleh Affandi adalah karya seni yang terkenal.', 'Kerajaan Majapahit pernah menjadi salah satu kerajaan terbesar di Indonesia.', 'Lontong sayur merupakan makanan khas yang sering disajikan saat lebaran.', 'Indonesia pernah menjadi tuan rumah Asian Games pada tahun .', 'Pantai Raja Ampat adalah surga bagi para penyelam.', 'Musik keroncong memiliki akar sejarah yang panjang di Indonesia.', 'Soto ayam adalah makanan berkuah yang menghangatkan.', 'Indonesia mengadakan pemilihan umum setiap lima tahun sekali.', 'Permainan tradisional seperti layang-layang masih populer di kalangan anak-anak.', 'Ondel-ondel adalah boneka besar yang menjadi ikon kota Jakarta.']\n",
            "Word Tokenization: ['Jakarta', 'merupakan', 'pusat', 'pemerintahan', 'di', 'Indonesia', '.', 'Rendang', 'adalah', 'masakan', 'khas', 'yang', 'berasal', 'dari', 'Padang', '.', 'Pendidikan', 'adalah', 'kunci', 'utama', 'untuk', 'masa', 'depan', 'yang', 'cerah', '.', 'Wayang', 'kulit', 'adalah', 'pertunjukan', 'tradisional', 'yang', 'sangat', 'populer', 'di', 'Jawa', '.', 'Bali', 'dikenal', 'sebagai', 'pulau', 'dewata', '.', 'Komodo', 'adalah', 'hewan', 'endemik', 'yang', 'hanya', 'ada', 'di', 'Indonesia', '.', 'Nasi', 'goreng', 'telah', 'menjadi', 'makanan', 'yang', 'dikenal', 'di', 'seluruh', 'dunia', '.', 'Borobudur', 'adalah', 'candi', 'Buddha', 'terbesar', 'di', 'dunia', '.', 'Batik', 'menjadi', 'warisan', 'budaya', 'yang', 'diakui', 'UNESCO', '.', 'Indonesia', 'memiliki', 'beragam', 'suku', 'dan', 'budaya', '.', 'Kopi', 'Luwak', 'dianggap', 'sebagai', 'kopi', 'termahal', 'di', 'dunia', '.', 'Indonesia', 'terkenal', 'dengan', 'hutan', 'hujan', 'tropisnya', '.', 'Durian', 'merupakan', 'buah', 'yang', 'kontroversial', 'karena', 'baunya', '.', 'Badminton', 'adalah', 'olahraga', 'yang', 'sangat', 'populer', 'di', 'Indonesia', '.', 'Orangutan', 'adalah', 'spesies', 'kera', 'besar', 'yang', 'dilindungi', 'di', 'Indonesia', '.', 'Gunung', 'Krakatau', 'meletus', 'pada', 'tahun', 'dengan', 'sangat', 'dahsyat', '.', 'Indonesia', 'adalah', 'negara', 'kepulauan', 'terbesar', 'di', 'dunia', '.', 'Teh', 'Indonesia', 'memiliki', 'kualitas', 'ekspor', 'yang', 'tinggi', '.', 'Candi', 'Prambanan', 'menunjukkan', 'keindahan', 'arsitektur', 'Hindu', '.', 'Anak', 'Krakatau', 'adalah', 'anak', 'gunung', 'berapi', 'dari', 'Krakatau', '.', 'Bajaj', 'adalah', 'salah', 'satu', 'moda', 'transportasi', 'tradisional', 'di', 'Jakarta', '.', 'Tari', 'Saman', 'berasal', 'dari', 'Aceh', '.', 'Indonesia', 'memiliki', 'lebih', 'dari', 'pulau', '.', 'Angklung', 'adalah', 'alat', 'musik', 'tradisional', 'yang', 'terbuat', 'dari', 'bambu', '.', 'Kompetisi', 'panjat', 'tebing', 'semakin', 'populer', 'di', 'kalangan', 'pemuda', '.', 'Tomat', 'dan', 'terong', 'adalah', 'bagian', 'dari', 'keluarga', 'solanaceae', '.', 'Teknologi', 'blockchain', 'memiliki', 'potensi', 'yang', 'besar', 'untuk', 'disrupsi', '.', 'Risiko', 'cyber', 'security', 'menjadi', 'perhatian', 'utama', 'dalam', 'bisnis', 'digital', '.', 'Banyak', 'startup', 'di', 'Indonesia', 'yang', 'berkembang', 'dengan', 'cepat', '.', 'Pemanasan', 'global', 'adalah', 'isu', 'lingkungan', 'yang', 'sangat', 'serius', '.', 'Banyak', 'spesies', 'yang', 'terancam', 'punah', 'akibat', 'perubahan', 'iklim', '.', 'Keanekaragaman', 'hayati', 'di', 'Indonesia', 'adalah', 'salah', 'satu', 'yang', 'terkaya', 'di', 'dunia', '.', 'Ayam', 'penyet', 'adalah', 'salah', 'satu', 'makanan', 'pedas', 'yang', 'populer', '.', 'Indonesia', 'memiliki', 'banyak', 'gunung', 'berapi', 'aktif', '.', 'Konservasi', 'satwa', 'liar', 'adalah', 'prioritas', 'di', 'banyak', 'daerah', 'di', 'Indonesia', '.', 'Martabak', 'adalah', 'jajanan', 'yang', 'paling', 'banyak', 'dicari', 'saat', 'malam', 'hari', '.', 'Bahasa', 'Indonesia', 'adalah', 'hasil', 'dari', 'evolusi', 'bahasa', 'Melayu', '.', 'Ramayana', 'adalah', 'cerita', 'epik', 'yang', 'juga', 'populer', 'di', 'Indonesia', '.', 'Teknik', 'tenun', 'ikat', 'adalah', 'seni', 'yang', 'membutuhkan', 'keahlian', 'tinggi', '.', 'Indonesia', 'memiliki', 'kekayaan', 'sumber', 'daya', 'mineral', 'yang', 'luar', 'biasa', '.', 'Lukisan', 'cakar', 'ayam', 'oleh', 'Affandi', 'adalah', 'karya', 'seni', 'yang', 'terkenal', '.', 'Kerajaan', 'Majapahit', 'pernah', 'menjadi', 'salah', 'satu', 'kerajaan', 'terbesar', 'di', 'Indonesia', '.', 'Lontong', 'sayur', 'merupakan', 'makanan', 'khas', 'yang', 'sering', 'disajikan', 'saat', 'lebaran', '.', 'Indonesia', 'pernah', 'menjadi', 'tuan', 'rumah', 'Asian', 'Games', 'pada', 'tahun', '.', 'Pantai', 'Raja', 'Ampat', 'adalah', 'surga', 'bagi', 'para', 'penyelam', '.', 'Musik', 'keroncong', 'memiliki', 'akar', 'sejarah', 'yang', 'panjang', 'di', 'Indonesia', '.', 'Soto', 'ayam', 'adalah', 'makanan', 'berkuah', 'yang', 'menghangatkan', '.', 'Indonesia', 'mengadakan', 'pemilihan', 'umum', 'setiap', 'lima', 'tahun', 'sekali', '.', 'Permainan', 'tradisional', 'seperti', 'layang-layang', 'masih', 'populer', 'di', 'kalangan', 'anak-anak', '.', 'Ondel-ondel', 'adalah', 'boneka', 'besar', 'yang', 'menjadi', 'ikon', 'kota', 'Jakarta', '.']\n"
          ]
        }
      ]
    },
    {
      "cell_type": "markdown",
      "source": [
        "### Stop Words Removal"
      ],
      "metadata": {
        "id": "OG0lQn1fMiU6"
      }
    },
    {
      "cell_type": "code",
      "source": [
        "from nltk.corpus import stopwords\n",
        "\n",
        "nltk.download('stopwords')\n",
        "\n",
        "stop_words = set(stopwords.words('indonesian'))"
      ],
      "metadata": {
        "colab": {
          "base_uri": "https://localhost:8080/"
        },
        "id": "rG8iZ3lUIyw9",
        "outputId": "1a1800b1-d506-4164-969f-6d138be2f561"
      },
      "execution_count": null,
      "outputs": [
        {
          "output_type": "stream",
          "name": "stderr",
          "text": [
            "[nltk_data] Downloading package stopwords to /root/nltk_data...\n",
            "[nltk_data]   Unzipping corpora/stopwords.zip.\n"
          ]
        }
      ]
    },
    {
      "cell_type": "code",
      "source": [
        "len(stop_words)"
      ],
      "metadata": {
        "colab": {
          "base_uri": "https://localhost:8080/"
        },
        "id": "ZLY4LIxALGfR",
        "outputId": "a1532859-c8a3-44ee-a6a3-a03fd94194b1"
      },
      "execution_count": null,
      "outputs": [
        {
          "output_type": "execute_result",
          "data": {
            "text/plain": [
              "757"
            ]
          },
          "metadata": {},
          "execution_count": 28
        }
      ]
    },
    {
      "cell_type": "code",
      "source": [
        "corpus_no_numbers[:5]"
      ],
      "metadata": {
        "colab": {
          "base_uri": "https://localhost:8080/"
        },
        "id": "tKZd9G1qX25r",
        "outputId": "faba7a40-fc87-4d7d-daa6-e1edcfdde656"
      },
      "execution_count": null,
      "outputs": [
        {
          "output_type": "execute_result",
          "data": {
            "text/plain": [
              "['Jakarta merupakan pusat pemerintahan di Indonesia.',\n",
              " 'Rendang adalah masakan khas yang berasal dari Padang.',\n",
              " 'Pendidikan adalah kunci utama untuk masa depan yang cerah.',\n",
              " 'Wayang kulit adalah pertunjukan tradisional yang sangat populer di Jawa.',\n",
              " 'Bali dikenal sebagai pulau dewata.']"
            ]
          },
          "metadata": {},
          "execution_count": 59
        }
      ]
    },
    {
      "cell_type": "code",
      "source": [
        "filtered_text = [w for w in word_tokenized if not w.lower() in stop_words]\n",
        "print(\"Filtered Text:\", filtered_text)"
      ],
      "metadata": {
        "colab": {
          "base_uri": "https://localhost:8080/"
        },
        "id": "XGDqfgrgK6rI",
        "outputId": "ff13857c-d12f-49f3-f270-87aed3560f05"
      },
      "execution_count": null,
      "outputs": [
        {
          "output_type": "stream",
          "name": "stdout",
          "text": [
            "Filtered Text: ['Jakarta', 'pusat', 'pemerintahan', 'Indonesia', '.', 'Rendang', 'masakan', 'khas', 'berasal', 'Padang', '.', 'Pendidikan', 'kunci', 'utama', 'cerah', '.', 'Wayang', 'kulit', 'pertunjukan', 'tradisional', 'populer', 'Jawa', '.', 'Bali', 'dikenal', 'pulau', 'dewata', '.', 'Komodo', 'hewan', 'endemik', 'Indonesia', '.', 'Nasi', 'goreng', 'makanan', 'dikenal', 'dunia', '.', 'Borobudur', 'candi', 'Buddha', 'terbesar', 'dunia', '.', 'Batik', 'warisan', 'budaya', 'diakui', 'UNESCO', '.', 'Indonesia', 'memiliki', 'beragam', 'suku', 'budaya', '.', 'Kopi', 'Luwak', 'dianggap', 'kopi', 'termahal', 'dunia', '.', 'Indonesia', 'terkenal', 'hutan', 'hujan', 'tropisnya', '.', 'Durian', 'buah', 'kontroversial', 'baunya', '.', 'Badminton', 'olahraga', 'populer', 'Indonesia', '.', 'Orangutan', 'spesies', 'kera', 'dilindungi', 'Indonesia', '.', 'Gunung', 'Krakatau', 'meletus', 'dahsyat', '.', 'Indonesia', 'negara', 'kepulauan', 'terbesar', 'dunia', '.', 'Teh', 'Indonesia', 'memiliki', 'kualitas', 'ekspor', '.', 'Candi', 'Prambanan', 'keindahan', 'arsitektur', 'Hindu', '.', 'Anak', 'Krakatau', 'anak', 'gunung', 'berapi', 'Krakatau', '.', 'Bajaj', 'salah', 'moda', 'transportasi', 'tradisional', 'Jakarta', '.', 'Tari', 'Saman', 'berasal', 'Aceh', '.', 'Indonesia', 'memiliki', 'pulau', '.', 'Angklung', 'alat', 'musik', 'tradisional', 'terbuat', 'bambu', '.', 'Kompetisi', 'panjat', 'tebing', 'populer', 'kalangan', 'pemuda', '.', 'Tomat', 'terong', 'keluarga', 'solanaceae', '.', 'Teknologi', 'blockchain', 'memiliki', 'potensi', 'disrupsi', '.', 'Risiko', 'cyber', 'security', 'perhatian', 'utama', 'bisnis', 'digital', '.', 'startup', 'Indonesia', 'berkembang', 'cepat', '.', 'Pemanasan', 'global', 'isu', 'lingkungan', 'serius', '.', 'spesies', 'terancam', 'punah', 'akibat', 'perubahan', 'iklim', '.', 'Keanekaragaman', 'hayati', 'Indonesia', 'salah', 'terkaya', 'dunia', '.', 'Ayam', 'penyet', 'salah', 'makanan', 'pedas', 'populer', '.', 'Indonesia', 'memiliki', 'gunung', 'berapi', 'aktif', '.', 'Konservasi', 'satwa', 'liar', 'prioritas', 'daerah', 'Indonesia', '.', 'Martabak', 'jajanan', 'dicari', 'malam', '.', 'Bahasa', 'Indonesia', 'hasil', 'evolusi', 'bahasa', 'Melayu', '.', 'Ramayana', 'cerita', 'epik', 'populer', 'Indonesia', '.', 'Teknik', 'tenun', 'ikat', 'seni', 'membutuhkan', 'keahlian', '.', 'Indonesia', 'memiliki', 'kekayaan', 'sumber', 'daya', 'mineral', '.', 'Lukisan', 'cakar', 'ayam', 'Affandi', 'karya', 'seni', 'terkenal', '.', 'Kerajaan', 'Majapahit', 'salah', 'kerajaan', 'terbesar', 'Indonesia', '.', 'Lontong', 'sayur', 'makanan', 'khas', 'disajikan', 'lebaran', '.', 'Indonesia', 'tuan', 'rumah', 'Asian', 'Games', '.', 'Pantai', 'Raja', 'Ampat', 'surga', 'penyelam', '.', 'Musik', 'keroncong', 'memiliki', 'akar', 'sejarah', 'Indonesia', '.', 'Soto', 'ayam', 'makanan', 'berkuah', 'menghangatkan', '.', 'Indonesia', 'mengadakan', 'pemilihan', '.', 'Permainan', 'tradisional', 'layang-layang', 'populer', 'kalangan', 'anak-anak', '.', 'Ondel-ondel', 'boneka', 'ikon', 'kota', 'Jakarta', '.']\n"
          ]
        }
      ]
    },
    {
      "cell_type": "markdown",
      "source": [
        "### Feature Extraction: TF-IDF"
      ],
      "metadata": {
        "id": "vYcyGrJrL6Ce"
      }
    },
    {
      "cell_type": "code",
      "source": [
        "from sklearn.feature_extraction.text import TfidfVectorizer"
      ],
      "metadata": {
        "id": "AdwqHyDCNaBM"
      },
      "execution_count": null,
      "outputs": []
    },
    {
      "cell_type": "code",
      "source": [
        "vectorizer = TfidfVectorizer(stop_words=stopwords.words('indonesian'))\n",
        "\n",
        "X = vectorizer.fit_transform(corpus_no_numbers)\n",
        "print(\"TF-IDF Feature Matrix:\\n\", X.toarray())\n",
        "print(X.shape[0], X.shape[1])"
      ],
      "metadata": {
        "colab": {
          "base_uri": "https://localhost:8080/"
        },
        "id": "ZdZwLHXQNJ22",
        "outputId": "539ba324-2fb0-49dd-c718-4396548e4a0c"
      },
      "execution_count": null,
      "outputs": [
        {
          "output_type": "stream",
          "name": "stdout",
          "text": [
            "TF-IDF Feature Matrix:\n",
            " [[0.         0.         0.         ... 0.         0.         0.        ]\n",
            " [0.         0.         0.         ... 0.         0.         0.        ]\n",
            " [0.         0.         0.         ... 0.46283268 0.         0.        ]\n",
            " ...\n",
            " [0.         0.         0.         ... 0.         0.         0.        ]\n",
            " [0.         0.         0.         ... 0.         0.         0.        ]\n",
            " [0.         0.         0.         ... 0.         0.         0.        ]]\n",
            "50 185\n"
          ]
        },
        {
          "output_type": "stream",
          "name": "stderr",
          "text": [
            "/usr/local/lib/python3.10/dist-packages/sklearn/feature_extraction/text.py:409: UserWarning: Your stop_words may be inconsistent with your preprocessing. Tokenizing the stop words generated tokens ['baiknya', 'berkali', 'kali', 'kurangnya', 'mata', 'olah', 'sekurang', 'setidak', 'tama', 'tidaknya'] not in stop_words.\n",
            "  warnings.warn(\n"
          ]
        }
      ]
    },
    {
      "cell_type": "code",
      "source": [
        "vectorizer.get_feature_names_out()"
      ],
      "metadata": {
        "colab": {
          "base_uri": "https://localhost:8080/"
        },
        "id": "RwF2ZJSAOg-b",
        "outputId": "3540258b-b319-4151-ce58-70b20c13bcc5"
      },
      "execution_count": null,
      "outputs": [
        {
          "output_type": "execute_result",
          "data": {
            "text/plain": [
              "array(['aceh', 'affandi', 'akar', 'akibat', 'aktif', 'alat', 'ampat',\n",
              "       'anak', 'angklung', 'arsitektur', 'asian', 'ayam', 'badminton',\n",
              "       'bahasa', 'bajaj', 'bali', 'bambu', 'batik', 'baunya', 'beragam',\n",
              "       'berapi', 'berasal', 'berkembang', 'berkuah', 'bisnis',\n",
              "       'blockchain', 'boneka', 'borobudur', 'buah', 'budaya', 'buddha',\n",
              "       'cakar', 'candi', 'cepat', 'cerah', 'cerita', 'cyber', 'daerah',\n",
              "       'dahsyat', 'daya', 'dewata', 'diakui', 'dianggap', 'dicari',\n",
              "       'digital', 'dikenal', 'dilindungi', 'disajikan', 'disrupsi',\n",
              "       'dunia', 'durian', 'ekspor', 'endemik', 'epik', 'evolusi', 'games',\n",
              "       'global', 'goreng', 'gunung', 'hasil', 'hayati', 'hewan', 'hindu',\n",
              "       'hujan', 'hutan', 'ikat', 'iklim', 'ikon', 'indonesia', 'isu',\n",
              "       'jajanan', 'jakarta', 'jawa', 'kalangan', 'karya', 'keahlian',\n",
              "       'keanekaragaman', 'keindahan', 'kekayaan', 'keluarga', 'kepulauan',\n",
              "       'kera', 'kerajaan', 'keroncong', 'khas', 'komodo', 'kompetisi',\n",
              "       'konservasi', 'kontroversial', 'kopi', 'kota', 'krakatau',\n",
              "       'kualitas', 'kulit', 'kunci', 'layang', 'lebaran', 'liar',\n",
              "       'lingkungan', 'lontong', 'lukisan', 'luwak', 'majapahit',\n",
              "       'makanan', 'malam', 'martabak', 'masakan', 'melayu', 'meletus',\n",
              "       'membutuhkan', 'memiliki', 'mengadakan', 'menghangatkan',\n",
              "       'mineral', 'moda', 'musik', 'nasi', 'negara', 'olahraga', 'ondel',\n",
              "       'orangutan', 'padang', 'panjat', 'pantai', 'pedas', 'pemanasan',\n",
              "       'pemerintahan', 'pemilihan', 'pemuda', 'pendidikan', 'penyelam',\n",
              "       'penyet', 'perhatian', 'permainan', 'pertunjukan', 'perubahan',\n",
              "       'populer', 'potensi', 'prambanan', 'prioritas', 'pulau', 'punah',\n",
              "       'pusat', 'raja', 'ramayana', 'rendang', 'risiko', 'rumah', 'salah',\n",
              "       'saman', 'satwa', 'sayur', 'security', 'sejarah', 'seni', 'serius',\n",
              "       'solanaceae', 'soto', 'spesies', 'startup', 'suku', 'sumber',\n",
              "       'surga', 'tari', 'tebing', 'teh', 'teknik', 'teknologi', 'tenun',\n",
              "       'terancam', 'terbesar', 'terbuat', 'terkaya', 'terkenal',\n",
              "       'termahal', 'terong', 'tomat', 'tradisional', 'transportasi',\n",
              "       'tropisnya', 'tuan', 'unesco', 'utama', 'warisan', 'wayang'],\n",
              "      dtype=object)"
            ]
          },
          "metadata": {},
          "execution_count": 53
        }
      ]
    },
    {
      "cell_type": "code",
      "source": [
        "print(vectorizer.get_stop_words())"
      ],
      "metadata": {
        "colab": {
          "base_uri": "https://localhost:8080/"
        },
        "id": "4-PvzEIaTIk1",
        "outputId": "d98f4f4a-231f-4826-a616-88da18630d9b"
      },
      "execution_count": null,
      "outputs": [
        {
          "output_type": "stream",
          "name": "stdout",
          "text": [
            "frozenset({'tiga', 'sering', 'apaan', 'menjawab', 'nantinya', 'tetap', 'dipersoalkan', 'diperbuatnya', 'ditanyai', 'mendatangi', 'sampai-sampai', 'siapapun', 'semampunya', 'hanyalah', 'disini', 'dimintai', 'ke', 'hendaklah', 'saya', 'dua', 'kelihatan', 'secara', 'kenapa', 'dekat', 'keseluruhan', 'berikut', 'padahal', 'dijawab', 'soal', 'sepanjang', 'sajalah', 'belakang', 'mendapat', 'terdahulu', 'berturut', 'mungkin', 'demi', 'mempertanyakan', 'para', 'ujarnya', 'dikatakannya', 'berapakah', 'merasa', 'sangatlah', 'dimulainya', 'diperkirakan', 'dipertanyakan', 'manakala', 'setempat', 'serupa', 'setinggi', 'sebegitu', 'hendak', 'menaiki', 'jangan', 'umumnya', 'depan', 'seusai', 'mengingat', 'terakhir', 'sebagainya', 'diantaranya', 'diucapkannya', 'sekaligus', 'semuanya', 'sebabnya', 'kira-kira', 'dituturkannya', 'agaknya', 'akhirnya', 'tentulah', 'sekalian', 'memberikan', 'setengah', 'kapan', 'dilakukan', 'penting', 'tapi', 'agar', 'dibuatnya', 'keterlaluan', 'lanjutnya', 'kira', 'diminta', 'sama-sama', 'ujar', 'diingatkan', 'amat', 'seolah', 'sewaktu', 'sinilah', 'janganlah', 'jawab', 'jangankan', 'jawaban', 'seharusnya', 'menandaskan', 'selaku', 'nyaris', 'ataukah', 'sana', 'inginkah', 'diperlihatkan', 'lagi', 'hari', 'artinya', 'sebutlah', 'selalu', 'kedua', 'mungkinkah', 'waktunya', 'benarlah', 'menjelaskan', 'yang', 'awal', 'mengerjakan', 'kini', 'semisal', 'kami', 'benarkah', 'setiap', 'memberi', 'beginilah', 'oleh', 'makanya', 'malahan', 'pihak', 'dipastikan', 'sampaikan', 'diberikan', 'atau', 'apabila', 'mau', 'tentunya', 'olehnya', 'selamanya', 'diungkapkan', 'terlihat', 'tandas', 'menuturkan', 'sejauh', 'perlu', 'karenanya', 'secukupnya', 'mula', 'usah', 'kecil', 'sebesar', 'selain', 'kembali', 'kelihatannya', 'dikerjakan', 'memperlihatkan', 'masalah', 'pihaknya', 'saja', 'kalian', 'baru', 'di', 'selama-lamanya', 'masalahnya', 'baik', 'ditanyakan', 'melihatnya', 'berarti', 'kasus', 'satu', 'biasa', 'ditunjuk', 'mereka', 'sesuatunya', 'ingat-ingat', 'berada', 'menyampaikan', 'bukanlah', 'hingga', 'besar', 'pun', 'sepihak', 'sebagaimana', 'tanya', 'didapat', 'bawah', 'sebuah', 'macam', 'walaupun', 'bolehlah', 'rasanya', 'akulah', 'sesampai', 'bekerja', 'dipunyai', 'soalnya', 'katanya', 'itulah', 'menunjukkan', 'misal', 'tinggi', 'tambahnya', 'atas', 'maupun', 'bertanya', 'jika', 'memperbuat', 'saling', 'ditunjukkan', 'menunjuknya', 'dimaksudkannya', 'dimisalkan', 'kata', 'lama', 'menambahkan', 'masihkah', 'tampaknya', 'siap', 'hal', 'meskipun', 'didatangkan', 'ikut', 'tanyanya', 'menuju', 'menanti-nanti', 'diinginkan', 'seberapa', 'bilakah', 'sudah', 'belum', 'memisalkan', 'memihak', 'tegasnya', 'kalaupun', 'sebetulnya', 'sebegini', 'ditegaskan', 'apa', 'melakukan', 'seorang', 'turut', 'usai', 'panjang', 'apalagi', 'sedemikian', 'bahwasanya', 'guna', 'berawal', 'antaranya', 'menyebutkan', 'pukul', 'siapa', 'lebih', 'perlukah', 'wahai', 'adapun', 'sebagian', 'memang', 'asal', 'sekitarnya', 'masa', 'akankah', 'dini', 'bakalan', 'banyak', 'supaya', 'setidaknya', 'bahkan', 'menghendaki', 'diri', 'termasuk', 'berlainan', 'menyatakan', 'pertama-tama', 'tidakkah', 'ataupun', 'tanyakan', 'keluar', 'dan', 'kok', 'terhadap', 'sekurangnya', 'terutama', 'kan', 'kemungkinannya', 'tuturnya', 'juga', 'ditambahkan', 'kamulah', 'haruslah', 'keduanya', 'memperkirakan', 'paling', 'semasa', 'tepat', 'mana', 'sendiri', 'untuk', 'semisalnya', 'kepada', 'sepertinya', 'berlalu', 'pastilah', 'malah', 'bersiap-siap', 'lah', 'mengibaratkan', 'sebaik-baiknya', 'sesama', 'disebut', 'ditunjuki', 'cukuplah', 'memulai', 'justru', 'tertentu', 'belakangan', 'sebaliknya', 'mengatakan', 'kemudian', 'diketahui', 'menjadi', 'sepantasnyalah', 'berkali-kali', 'semua', 'sebaik', 'sesuatu', 'sangat', 'dia', 'kurang', 'tersebutlah', 'antar', 'merekalah', 'dimaksudkan', 'empat', 'berupa', 'padanya', 'sayalah', 'bermacam', 'keadaan', 'bisakah', 'tahun', 'benar', 'ibaratnya', 'diakhirinya', 'jadinya', 'ditunjuknya', 'pertama', 'asalkan', 'dibuat', 'semata-mata', 'lagian', 'mulailah', 'cuma', 'dimaksud', 'wong', 'makin', 'balik', 'dimulailah', 'berjumlah', 'lamanya', 'sama', 'diibaratkannya', 'meyakinkan', 'kamilah', 'bermaksud', 'sampai', 'mempersiapkan', 'kepadanya', 'terjadinya', 'kala', 'pertanyakan', 'sekurang-kurangnya', 'ingat', 'terjadi', 'tidaklah', 'misalnya', 'bagai', 'demikianlah', 'berikutnya', 'berbagai', 'sesegera', 'terdapat', 'seluruhnya', 'kinilah', 'serta', 'semasih', 'percuma', 'lain', 'seperlunya', 'tunjuk', 'tahu', 'terlalu', 'selama', 'masing', 'yakin', 'bagaimana', 'teringat', 'sedikit', 'ibaratkan', 'cara', 'mengucapkan', 'sesudahnya', 'saat', 'sebelumnya', 'andalah', 'sebutnya', 'pasti', 'berkenaan', 'berikan', 'kemungkinan', 'sebut', 'luar', 'datang', 'jikalau', 'memerlukan', 'merupakan', 'setiba', 'suatu', 'dulu', 'bersama', 'ia', 'jelasnya', 'tidak', 'katakan', 'tutur', 'seenaknya', 'tegas', 'ibarat', 'harus', 'memungkinkan', 'bolehkah', 'cukup', 'caranya', 'mulai', 'sedikitnya', 'cukupkah', 'bagian', 'umum', 'bagaimanapun', 'bukannya', 'terbanyak', 'hendaknya', 'wah', 'hanya', 'dikarenakan', 'jadi', 'sedangkan', 'khususnya', 'persoalan', 'punya', 'bukankah', 'mempunyai', 'dilalui', 'apatah', 'masing-masing', 'yakni', 'kiranya', 'kelamaan', 'sendirinya', 'dirinya', 'dikira', 'dilihat', 'keseluruhannya', 'sekalipun', 'sekarang', 'mendatangkan', 'bila', 'beginian', 'berapa', 'buat', 'kamu', 'berakhirlah', 'ucapnya', 'dalam', 'kalaulah', 'lalu', 'bagi', 'mendatang', 'terasa', 'akhir', 'meminta', 'jelaskan', 'melihat', 'anda', 'terlebih', 'amatlah', 'terdiri', 'mempergunakan', 'mirip', 'tanpa', 'seseorang', 'entah', 'namun', 'sebenarnya', 'berakhir', 'kapanpun', 'mampukah', 'daripada', 'dimulai', 'sekitar', 'dari', 'pada', 'semakin', 'memastikan', 'saatnya', 'diantara', 'rasa', 'menanyakan', 'tetapi', 'pentingnya', 'diakhiri', 'bersiap', 'dijelaskan', 'dituturkan', 'sejak', 'perlunya', 'katakanlah', 'tandasnya', 'sekadarnya', 'ucap', 'bisa', 'berkehendak', 'sesudah', 'kapankah', 'bagaimanakah', 'berakhirnya', 'sempat', 'awalnya', 'sekiranya', 'bertanya-tanya', 'seolah-olah', 'dapat', 'kebetulan', 'meyakini', 'sambil', 'maka', 'belumlah', 'lima', 'seperti', 'seterusnya', 'harusnya', 'terjadilah', 'kelima', 'sekecil', 'ungkapnya', 'siapakah', 'mengucapkannya', 'tersampaikan', 'begitupun', 'setelah', 'mengetahui', 'mendapatkan', 'sekali', 'sesekali', 'menanya', 'tiba-tiba', 'tadi', 'meski', 'kita', 'se', 'berapalah', 'seketika', 'akhiri', 'itukah', 'ibu', 'jelaslah', 'tambah', 'kitalah', 'dipergunakan', 'tengah', 'sebab', 'ialah', 'menunjuk', 'menginginkan', 'boleh', 'diingat', 'tiba', 'mengenai', 'bertutur', 'berapapun', 'per', 'jelas', 'sedang', 'lainnya', 'bermacam-macam', 'nanti', 'sementara', 'ditanya', 'diberi', 'diberikannya', 'inginkan', 'dialah', 'berlebihan', 'tempat', 'sebanyak', 'sebisanya', 'ketika', 'inikah', 'teringat-ingat', 'ini', 'berkeinginan', 'bagaikan', 'sekali-kali', 'lewat', 'semacam', 'ditujukan', 'menanyai', 'berlangsung', 'sepantasnya', 'begitulah', 'dong', 'diperlukan', 'menanti', 'inilah', 'akan', 'segalanya', 'jadilah', 'waktu', 'mengingatkan', 'ternyata', 'terus', 'sini', 'mulanya', 'jumlah', 'disebutkan', 'rupanya', 'lanjut', 'begini', 'sendirian', 'antara', 'adalah', 'tersebut', 'terhadapnya', 'ungkap', 'mengapa', 'manalagi', 'mengatakannya', 'bapak', 'sebaiknya', 'ditunjukkannya', 'hampir', 'pernah', 'sekadar', 'betulkah', 'bersama-sama', 'diketahuinya', 'menyeluruh', 'demikian', 'beberapa', 'menegaskan', 'agak', 'disampaikan', 'naik', 'bulan', 'tak', 'pula', 'mampu', 'tertuju', 'beginikah', 'melainkan', 'gunakan', 'disebutkannya', 'biasanya', 'membuat', 'seingat', 'menyiapkan', 'berujar', 'jauh', 'setidak-tidaknya', 'enggaknya', 'memintakan', 'sebelum', 'minta', 'diibaratkan', 'pertanyaan', 'tentu', 'berturut-turut', 'sebagai', 'menurut', 'mengibaratkannya', 'beri', 'dimaksudnya', 'pak', 'semata', 'sejenak', 'semampu', 'setibanya', 'tentang', 'ditandaskan', 'dengan', 'menunjuki', 'walau', 'tampak', 'seluruh', 'menggunakan', 'menyangkut', 'disinilah', 'keinginan', 'diucapkan', 'tiap', 'nah', 'bahwa', 'sehingga', 'aku', 'begitu', 'telah', 'semaunya', 'jumlahnya', 'betul', 'berdatangan', 'entahlah', 'masih', 'mengungkapkan', 'sesaat', 'pantas', 'waduh', 'enggak', 'tadinya', 'apakah', 'rata', 'berkata', 'adanya', 'diperlukannya', 'toh', 'diperbuat', 'bung', 'itu', 'ada', 'sejumlah', 'seringnya', 'melalui', 'sudahkah', 'sudahlah', 'ingin', 'karena', 'semula', 'dahulu', 'menantikan', 'selanjutnya', 'bakal', 'bermula', 'misalkan', 'mengira', 'terkira', 'begitukah', 'bukan', 'kalau', 'jawabnya', 'dijelaskannya', 'dimungkinkan', 'sela', 'mempersoalkan', 'mengakhiri', 'dikatakan', 'nyatanya', 'yaitu', 'segera', 'segala', 'digunakan', 'kesampaian'})\n"
          ]
        }
      ]
    }
  ]
}